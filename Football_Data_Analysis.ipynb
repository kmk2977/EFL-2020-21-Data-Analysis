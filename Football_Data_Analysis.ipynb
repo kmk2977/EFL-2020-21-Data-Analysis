{
  "nbformat": 4,
  "nbformat_minor": 0,
  "metadata": {
    "colab": {
      "name": "Football-Data-Analysis.ipynb",
      "provenance": [],
      "collapsed_sections": []
    },
    "kernelspec": {
      "name": "python3",
      "display_name": "Python 3"
    },
    "language_info": {
      "name": "python"
    }
  },
  "cells": [
    {
      "cell_type": "code",
      "execution_count": null,
      "metadata": {
        "id": "SVUAg8fwVwcf"
      },
      "outputs": [],
      "source": [
        "#Import the libraries\n",
        "\n",
        "import pandas as pd\n",
        "import numpy as np\n",
        "import matplotlib.pyplot as plt\n",
        "import seaborn as sns"
      ]
    },
    {
      "cell_type": "code",
      "source": [
        "#Import the dataset\n",
        "\n",
        "df = pd.read_csv(\"/content/EPL_20_21.csv\")\n",
        "df.head()"
      ],
      "metadata": {
        "id": "-EGjwlPXXPLu"
      },
      "execution_count": null,
      "outputs": []
    },
    {
      "cell_type": "code",
      "source": [
        "df.info()"
      ],
      "metadata": {
        "id": "CGjXOEVdX8sj"
      },
      "execution_count": null,
      "outputs": []
    },
    {
      "cell_type": "code",
      "source": [
        "df.describe()"
      ],
      "metadata": {
        "id": "arwD3a-hX-RN"
      },
      "execution_count": null,
      "outputs": []
    },
    {
      "cell_type": "code",
      "source": [
        "df.isnull().sum()"
      ],
      "metadata": {
        "id": "782wWFDXYALt"
      },
      "execution_count": null,
      "outputs": []
    },
    {
      "cell_type": "code",
      "source": [
        "df.isna().sum()"
      ],
      "metadata": {
        "id": "jvy1KKpJYcDQ"
      },
      "execution_count": null,
      "outputs": []
    },
    {
      "cell_type": "code",
      "source": [
        "#add 2 new columns\n",
        "\n",
        "df['MinsPerMatch'] = (df['Mins'] / df['Matches']).astype(int)\n",
        "df['GoalsPerMatch'] = (df['Goals'] / df['Matches']).astype(float)\n"
      ],
      "metadata": {
        "id": "TdAp8pTcYqIa"
      },
      "execution_count": null,
      "outputs": []
    },
    {
      "cell_type": "code",
      "source": [
        "#Total goals\n",
        "Total_Goals = df['Goals'].sum()"
      ],
      "metadata": {
        "id": "GqSoWNALZmai"
      },
      "execution_count": null,
      "outputs": []
    },
    {
      "cell_type": "code",
      "source": [
        "#Penalty goals\n",
        "Total_PenaltyGoals = df['Penalty_Goals'].sum()"
      ],
      "metadata": {
        "id": "tyRCXmg7ZxjS"
      },
      "execution_count": null,
      "outputs": []
    },
    {
      "cell_type": "code",
      "source": [
        "#Penalty goal attempts\n",
        "Total_PenaltyGoalAttempts = df['Penalty_Attempted'].sum()"
      ],
      "metadata": {
        "id": "VhriRi8laARH"
      },
      "execution_count": null,
      "outputs": []
    },
    {
      "cell_type": "code",
      "source": [
        "#Pie chart for penalties missed vs scored\n",
        "plt.figure(figsize=(13,6))\n",
        "penalty_not_scored = Total_PenaltyGoalAttempts - Total_PenaltyGoals\n",
        "data = [penalty_not_scored , Total_PenaltyGoals]\n",
        "labels = ['Penalties Missed' , 'Penalties Scored']\n",
        "color = sns.color_palette('Set2')\n",
        "plt.pie(data , labels=labels , colors=color , autopct = \"%.0f%%\")\n",
        "plt.show()"
      ],
      "metadata": {
        "colab": {
          "base_uri": "https://localhost:8080/",
          "height": 357
        },
        "id": "ejKQvpaXabLj",
        "outputId": "85c9b0b0-e9b6-40fe-af7e-0c058cec1acb"
      },
      "execution_count": null,
      "outputs": [
        {
          "output_type": "display_data",
          "data": {
            "text/plain": [
              "<Figure size 936x432 with 1 Axes>"
            ],
            "image/png": "[encoded data removed]"
          },
          "metadata": {}
        }
      ]
    },
    {
      "cell_type": "code",
      "source": [
        "#unique positions\n",
        "df['Position'].unique()"
      ],
      "metadata": {
        "colab": {
          "base_uri": "https://localhost:8080/"
        },
        "id": "WvmZcr8AabKM",
        "outputId": "b6fe948f-71b2-48df-d3e2-15a90aa68510"
      },
      "execution_count": null,
      "outputs": [
        {
          "output_type": "execute_result",
          "data": {
            "text/plain": [
              "array(['MF,FW', 'GK', 'FW', 'DF', 'MF', 'FW,MF', 'FW,DF', 'DF,MF',\n",
              "       'MF,DF', 'DF,FW'], dtype=object)"
            ]
          },
          "metadata": {},
          "execution_count": 31
        }
      ]
    },
    {
      "cell_type": "code",
      "source": [
        "#total fw players\n",
        "df[df['Position'] == 'FW']"
      ],
      "metadata": {
        "colab": {
          "base_uri": "https://localhost:8080/",
          "height": 679
        },
        "id": "k-e5ocXfcfdN",
        "outputId": "c7e72902-8c6d-457a-b2a0-6037bb53a199"
      },
      "execution_count": null,
      "outputs": [
        {
          "output_type": "execute_result",
          "data": {
            "text/plain": [
              "                   Name              Club Nationality Position  Age  Matches  \\\n",
              "2           Timo Werner           Chelsea         GER       FW   24       35   \n",
              "16        Tammy Abraham           Chelsea         ENG       FW   22       22   \n",
              "19       Olivier Giroud           Chelsea         FRA       FW   33       17   \n",
              "23   Ruben Loftus-Cheek           Chelsea         ENG       FW   24        1   \n",
              "30      Raheem Sterling   Manchester City         ENG       FW   25       31   \n",
              "..                  ...               ...         ...      ...  ...      ...   \n",
              "516        Oliver Burke  Sheffield United         SCO       FW   23       25   \n",
              "518     Oliver McBurnie  Sheffield United         SCO       FW   24       23   \n",
              "519      Rhian Brewster  Sheffield United         ENG       FW   20       27   \n",
              "523         Billy Sharp  Sheffield United         ENG       FW   34       16   \n",
              "526     Daniel Jebbison  Sheffield United         ENG       FW   17        4   \n",
              "\n",
              "     Starts  Mins  Goals  Assists  Passes_Attempted  Perc_Passes_Completed  \\\n",
              "2        29  2602      6        8               826                   77.2   \n",
              "16       12  1040      6        1               218                   68.3   \n",
              "19        8   748      4        0               217                   74.2   \n",
              "23        1    60      0        0                16                   68.8   \n",
              "30       28  2536     10        7              1127                   85.4   \n",
              "..      ...   ...    ...      ...               ...                    ...   \n",
              "516      14  1269      1        1               262                   70.6   \n",
              "518      12  1324      1        0               426                   62.9   \n",
              "519      12  1128      0        0               225                   69.3   \n",
              "523       7   735      3        0               123                   69.9   \n",
              "526       3   284      1        0                34                   70.6   \n",
              "\n",
              "     Penalty_Goals  Penalty_Attempted    xG    xA  Yellow_Cards  Red_Cards  \\\n",
              "2                0                  0  0.41  0.21             2          0   \n",
              "16               0                  0  0.56  0.07             0          0   \n",
              "19               0                  0  0.58  0.09             1          0   \n",
              "23               0                  0  0.00  0.00             0          0   \n",
              "30               0                  1  0.43  0.17             4          0   \n",
              "..             ...                ...   ...   ...           ...        ...   \n",
              "516              0                  0  0.17  0.13             2          0   \n",
              "518              0                  0  0.21  0.07             2          0   \n",
              "519              0                  0  0.14  0.13             1          0   \n",
              "523              2                  2  0.33  0.07             1          0   \n",
              "526              0                  0  0.50  0.01             0          0   \n",
              "\n",
              "     MinsPerMatch  GoalsPerMatch  \n",
              "2              74       0.171429  \n",
              "16             47       0.272727  \n",
              "19             44       0.235294  \n",
              "23             60       0.000000  \n",
              "30             81       0.322581  \n",
              "..            ...            ...  \n",
              "516            50       0.040000  \n",
              "518            57       0.043478  \n",
              "519            41       0.000000  \n",
              "523            45       0.187500  \n",
              "526            71       0.250000  \n",
              "\n",
              "[81 rows x 20 columns]"
            ],
            "text/html": [
              "\n",
              "  <div id=\"df-57f96816-d171-4287-86fd-08bd404d149d\">\n",
              "    <div class=\"colab-df-container\">\n",
              "      <div>\n",
              "<style scoped>\n",
              "    .dataframe tbody tr th:only-of-type {\n",
              "        vertical-align: middle;\n",
              "    }\n",
              "\n",
              "    .dataframe tbody tr th {\n",
              "        vertical-align: top;\n",
              "    }\n",
              "\n",
              "    .dataframe thead th {\n",
              "        text-align: right;\n",
              "    }\n",
              "</style>\n",
              "<table border=\"1\" class=\"dataframe\">\n",
              "  <thead>\n",
              "    <tr style=\"text-align: right;\">\n",
              "      <th></th>\n",
              "      <th>Name</th>\n",
              "      <th>Club</th>\n",
              "      <th>Nationality</th>\n",
              "      <th>Position</th>\n",
              "      <th>Age</th>\n",
              "      <th>Matches</th>\n",
              "      <th>Starts</th>\n",
              "      <th>Mins</th>\n",
              "      <th>Goals</th>\n",
              "      <th>Assists</th>\n",
              "      <th>Passes_Attempted</th>\n",
              "      <th>Perc_Passes_Completed</th>\n",
              "      <th>Penalty_Goals</th>\n",
              "      <th>Penalty_Attempted</th>\n",
              "      <th>xG</th>\n",
              "      <th>xA</th>\n",
              "      <th>Yellow_Cards</th>\n",
              "      <th>Red_Cards</th>\n",
              "      <th>MinsPerMatch</th>\n",
              "      <th>GoalsPerMatch</th>\n",
              "    </tr>\n",
              "  </thead>\n",
              "  <tbody>\n",
              "    <tr>\n",
              "      <th>2</th>\n",
              "      <td>Timo Werner</td>\n",
              "      <td>Chelsea</td>\n",
              "      <td>GER</td>\n",
              "      <td>FW</td>\n",
              "      <td>24</td>\n",
              "      <td>35</td>\n",
              "      <td>29</td>\n",
              "      <td>2602</td>\n",
              "      <td>6</td>\n",
              "      <td>8</td>\n",
              "      <td>826</td>\n",
              "      <td>77.2</td>\n",
              "      <td>0</td>\n",
              "      <td>0</td>\n",
              "      <td>0.41</td>\n",
              "      <td>0.21</td>\n",
              "      <td>2</td>\n",
              "      <td>0</td>\n",
              "      <td>74</td>\n",
              "      <td>0.171429</td>\n",
              "    </tr>\n",
              "    <tr>\n",
              "      <th>16</th>\n",
              "      <td>Tammy Abraham</td>\n",
              "      <td>Chelsea</td>\n",
              "      <td>ENG</td>\n",
              "      <td>FW</td>\n",
              "      <td>22</td>\n",
              "      <td>22</td>\n",
              "      <td>12</td>\n",
              "      <td>1040</td>\n",
              "      <td>6</td>\n",
              "      <td>1</td>\n",
              "      <td>218</td>\n",
              "      <td>68.3</td>\n",
              "      <td>0</td>\n",
              "      <td>0</td>\n",
              "      <td>0.56</td>\n",
              "      <td>0.07</td>\n",
              "      <td>0</td>\n",
              "      <td>0</td>\n",
              "      <td>47</td>\n",
              "      <td>0.272727</td>\n",
              "    </tr>\n",
              "    <tr>\n",
              "      <th>19</th>\n",
              "      <td>Olivier Giroud</td>\n",
              "      <td>Chelsea</td>\n",
              "      <td>FRA</td>\n",
              "      <td>FW</td>\n",
              "      <td>33</td>\n",
              "      <td>17</td>\n",
              "      <td>8</td>\n",
              "      <td>748</td>\n",
              "      <td>4</td>\n",
              "      <td>0</td>\n",
              "      <td>217</td>\n",
              "      <td>74.2</td>\n",
              "      <td>0</td>\n",
              "      <td>0</td>\n",
              "      <td>0.58</td>\n",
              "      <td>0.09</td>\n",
              "      <td>1</td>\n",
              "      <td>0</td>\n",
              "      <td>44</td>\n",
              "      <td>0.235294</td>\n",
              "    </tr>\n",
              "    <tr>\n",
              "      <th>23</th>\n",
              "      <td>Ruben Loftus-Cheek</td>\n",
              "      <td>Chelsea</td>\n",
              "      <td>ENG</td>\n",
              "      <td>FW</td>\n",
              "      <td>24</td>\n",
              "      <td>1</td>\n",
              "      <td>1</td>\n",
              "      <td>60</td>\n",
              "      <td>0</td>\n",
              "      <td>0</td>\n",
              "      <td>16</td>\n",
              "      <td>68.8</td>\n",
              "      <td>0</td>\n",
              "      <td>0</td>\n",
              "      <td>0.00</td>\n",
              "      <td>0.00</td>\n",
              "      <td>0</td>\n",
              "      <td>0</td>\n",
              "      <td>60</td>\n",
              "      <td>0.000000</td>\n",
              "    </tr>\n",
              "    <tr>\n",
              "      <th>30</th>\n",
              "      <td>Raheem Sterling</td>\n",
              "      <td>Manchester City</td>\n",
              "      <td>ENG</td>\n",
              "      <td>FW</td>\n",
              "      <td>25</td>\n",
              "      <td>31</td>\n",
              "      <td>28</td>\n",
              "      <td>2536</td>\n",
              "      <td>10</td>\n",
              "      <td>7</td>\n",
              "      <td>1127</td>\n",
              "      <td>85.4</td>\n",
              "      <td>0</td>\n",
              "      <td>1</td>\n",
              "      <td>0.43</td>\n",
              "      <td>0.17</td>\n",
              "      <td>4</td>\n",
              "      <td>0</td>\n",
              "      <td>81</td>\n",
              "      <td>0.322581</td>\n",
              "    </tr>\n",
              "    <tr>\n",
              "      <th>...</th>\n",
              "      <td>...</td>\n",
              "      <td>...</td>\n",
              "      <td>...</td>\n",
              "      <td>...</td>\n",
              "      <td>...</td>\n",
              "      <td>...</td>\n",
              "      <td>...</td>\n",
              "      <td>...</td>\n",
              "      <td>...</td>\n",
              "      <td>...</td>\n",
              "      <td>...</td>\n",
              "      <td>...</td>\n",
              "      <td>...</td>\n",
              "      <td>...</td>\n",
              "      <td>...</td>\n",
              "      <td>...</td>\n",
              "      <td>...</td>\n",
              "      <td>...</td>\n",
              "      <td>...</td>\n",
              "      <td>...</td>\n",
              "    </tr>\n",
              "    <tr>\n",
              "      <th>516</th>\n",
              "      <td>Oliver Burke</td>\n",
              "      <td>Sheffield United</td>\n",
              "      <td>SCO</td>\n",
              "      <td>FW</td>\n",
              "      <td>23</td>\n",
              "      <td>25</td>\n",
              "      <td>14</td>\n",
              "      <td>1269</td>\n",
              "      <td>1</td>\n",
              "      <td>1</td>\n",
              "      <td>262</td>\n",
              "      <td>70.6</td>\n",
              "      <td>0</td>\n",
              "      <td>0</td>\n",
              "      <td>0.17</td>\n",
              "      <td>0.13</td>\n",
              "      <td>2</td>\n",
              "      <td>0</td>\n",
              "      <td>50</td>\n",
              "      <td>0.040000</td>\n",
              "    </tr>\n",
              "    <tr>\n",
              "      <th>518</th>\n",
              "      <td>Oliver McBurnie</td>\n",
              "      <td>Sheffield United</td>\n",
              "      <td>SCO</td>\n",
              "      <td>FW</td>\n",
              "      <td>24</td>\n",
              "      <td>23</td>\n",
              "      <td>12</td>\n",
              "      <td>1324</td>\n",
              "      <td>1</td>\n",
              "      <td>0</td>\n",
              "      <td>426</td>\n",
              "      <td>62.9</td>\n",
              "      <td>0</td>\n",
              "      <td>0</td>\n",
              "      <td>0.21</td>\n",
              "      <td>0.07</td>\n",
              "      <td>2</td>\n",
              "      <td>0</td>\n",
              "      <td>57</td>\n",
              "      <td>0.043478</td>\n",
              "    </tr>\n",
              "    <tr>\n",
              "      <th>519</th>\n",
              "      <td>Rhian Brewster</td>\n",
              "      <td>Sheffield United</td>\n",
              "      <td>ENG</td>\n",
              "      <td>FW</td>\n",
              "      <td>20</td>\n",
              "      <td>27</td>\n",
              "      <td>12</td>\n",
              "      <td>1128</td>\n",
              "      <td>0</td>\n",
              "      <td>0</td>\n",
              "      <td>225</td>\n",
              "      <td>69.3</td>\n",
              "      <td>0</td>\n",
              "      <td>0</td>\n",
              "      <td>0.14</td>\n",
              "      <td>0.13</td>\n",
              "      <td>1</td>\n",
              "      <td>0</td>\n",
              "      <td>41</td>\n",
              "      <td>0.000000</td>\n",
              "    </tr>\n",
              "    <tr>\n",
              "      <th>523</th>\n",
              "      <td>Billy Sharp</td>\n",
              "      <td>Sheffield United</td>\n",
              "      <td>ENG</td>\n",
              "      <td>FW</td>\n",
              "      <td>34</td>\n",
              "      <td>16</td>\n",
              "      <td>7</td>\n",
              "      <td>735</td>\n",
              "      <td>3</td>\n",
              "      <td>0</td>\n",
              "      <td>123</td>\n",
              "      <td>69.9</td>\n",
              "      <td>2</td>\n",
              "      <td>2</td>\n",
              "      <td>0.33</td>\n",
              "      <td>0.07</td>\n",
              "      <td>1</td>\n",
              "      <td>0</td>\n",
              "      <td>45</td>\n",
              "      <td>0.187500</td>\n",
              "    </tr>\n",
              "    <tr>\n",
              "      <th>526</th>\n",
              "      <td>Daniel Jebbison</td>\n",
              "      <td>Sheffield United</td>\n",
              "      <td>ENG</td>\n",
              "      <td>FW</td>\n",
              "      <td>17</td>\n",
              "      <td>4</td>\n",
              "      <td>3</td>\n",
              "      <td>284</td>\n",
              "      <td>1</td>\n",
              "      <td>0</td>\n",
              "      <td>34</td>\n",
              "      <td>70.6</td>\n",
              "      <td>0</td>\n",
              "      <td>0</td>\n",
              "      <td>0.50</td>\n",
              "      <td>0.01</td>\n",
              "      <td>0</td>\n",
              "      <td>0</td>\n",
              "      <td>71</td>\n",
              "      <td>0.250000</td>\n",
              "    </tr>\n",
              "  </tbody>\n",
              "</table>\n",
              "<p>81 rows × 20 columns</p>\n",
              "</div>\n",
              "      <button class=\"colab-df-convert\" onclick=\"convertToInteractive('df-57f96816-d171-4287-86fd-08bd404d149d')\"\n",
              "              title=\"Convert this dataframe to an interactive table.\"\n",
              "              style=\"display:none;\">\n",
              "        \n",
              "  <svg xmlns=\"http://www.w3.org/2000/svg\" height=\"24px\"viewBox=\"0 0 24 24\"\n",
              "       width=\"24px\">\n",
              "    <path d=\"M0 0h24v24H0V0z\" fill=\"none\"/>\n",
              "    <path d=\"M18.56 5.44l.94 2.06.94-2.06 2.06-.94-2.06-.94-.94-2.06-.94 2.06-2.06.94zm-11 1L8.5 8.5l.94-2.06 2.06-.94-2.06-.94L8.5 2.5l-.94 2.06-2.06.94zm10 10l.94 2.06.94-2.06 2.06-.94-2.06-.94-.94-2.06-.94 2.06-2.06.94z\"/><path d=\"M17.41 7.96l-1.37-1.37c-.4-.4-.92-.59-1.43-.59-.52 0-1.04.2-1.43.59L10.3 9.45l-7.72 7.72c-.78.78-.78 2.05 0 2.83L4 21.41c.39.39.9.59 1.41.59.51 0 1.02-.2 1.41-.59l7.78-7.78 2.81-2.81c.8-.78.8-2.07 0-2.86zM5.41 20L4 18.59l7.72-7.72 1.47 1.35L5.41 20z\"/>\n",
              "  </svg>\n",
              "      </button>\n",
              "      \n",
              "  <style>\n",
              "    .colab-df-container {\n",
              "      display:flex;\n",
              "      flex-wrap:wrap;\n",
              "      gap: 12px;\n",
              "    }\n",
              "\n",
              "    .colab-df-convert {\n",
              "      background-color: #E8F0FE;\n",
              "      border: none;\n",
              "      border-radius: 50%;\n",
              "      cursor: pointer;\n",
              "      display: none;\n",
              "      fill: #1967D2;\n",
              "      height: 32px;\n",
              "      padding: 0 0 0 0;\n",
              "      width: 32px;\n",
              "    }\n",
              "\n",
              "    .colab-df-convert:hover {\n",
              "      background-color: #E2EBFA;\n",
              "      box-shadow: 0px 1px 2px rgba(60, 64, 67, 0.3), 0px 1px 3px 1px rgba(60, 64, 67, 0.15);\n",
              "      fill: #174EA6;\n",
              "    }\n",
              "\n",
              "    [theme=dark] .colab-df-convert {\n",
              "      background-color: #3B4455;\n",
              "      fill: #D2E3FC;\n",
              "    }\n",
              "\n",
              "    [theme=dark] .colab-df-convert:hover {\n",
              "      background-color: #434B5C;\n",
              "      box-shadow: 0px 1px 3px 1px rgba(0, 0, 0, 0.15);\n",
              "      filter: drop-shadow(0px 1px 2px rgba(0, 0, 0, 0.3));\n",
              "      fill: #FFFFFF;\n",
              "    }\n",
              "  </style>\n",
              "\n",
              "      <script>\n",
              "        const buttonEl =\n",
              "          document.querySelector('#df-57f96816-d171-4287-86fd-08bd404d149d button.colab-df-convert');\n",
              "        buttonEl.style.display =\n",
              "          google.colab.kernel.accessAllowed ? 'block' : 'none';\n",
              "\n",
              "        async function convertToInteractive(key) {\n",
              "          const element = document.querySelector('#df-57f96816-d171-4287-86fd-08bd404d149d');\n",
              "          const dataTable =\n",
              "            await google.colab.kernel.invokeFunction('convertToInteractive',\n",
              "                                                     [key], {});\n",
              "          if (!dataTable) return;\n",
              "\n",
              "          const docLinkHtml = 'Like what you see? Visit the ' +\n",
              "            '<a target=\"_blank\" href=https://colab.research.google.com/notebooks/data_table.ipynb>data table notebook</a>'\n",
              "            + ' to learn more about interactive tables.';\n",
              "          element.innerHTML = '';\n",
              "          dataTable['output_type'] = 'display_data';\n",
              "          await google.colab.output.renderOutput(dataTable, element);\n",
              "          const docLink = document.createElement('div');\n",
              "          docLink.innerHTML = docLinkHtml;\n",
              "          element.appendChild(docLink);\n",
              "        }\n",
              "      </script>\n",
              "    </div>\n",
              "  </div>\n",
              "  "
            ]
          },
          "metadata": {},
          "execution_count": 33
        }
      ]
    },
    {
      "cell_type": "code",
      "source": [
        "#players from different nations\n",
        "np.size(df['Nationality'].unique())"
      ],
      "metadata": {
        "colab": {
          "base_uri": "https://localhost:8080/"
        },
        "id": "vmcN4R0Ec6iK",
        "outputId": "d39e8ad5-0772-42d2-c9ec-17132a0180e0"
      },
      "execution_count": null,
      "outputs": [
        {
          "output_type": "execute_result",
          "data": {
            "text/plain": [
              "59"
            ]
          },
          "metadata": {},
          "execution_count": 35
        }
      ]
    },
    {
      "cell_type": "code",
      "source": [
        "#most players from which countries\n",
        "nationality = df.groupby('Nationality').size().sort_values(ascending = False)\n",
        "nationality.head(10).plot(kind = 'bar' , color = sns.color_palette(\"magma\"))"
      ],
      "metadata": {
        "colab": {
          "base_uri": "https://localhost:8080/",
          "height": 310
        },
        "id": "r200cpIpeCv7",
        "outputId": "a12c05ea-9347-4e20-8c46-53c14db95259"
      },
      "execution_count": null,
      "outputs": [
        {
          "output_type": "execute_result",
          "data": {
            "text/plain": [
              "<matplotlib.axes._subplots.AxesSubplot at 0x7fdd4f0327d0>"
            ]
          },
          "metadata": {},
          "execution_count": 57
        },
        {
          "output_type": "display_data",
          "data": {
            "text/plain": [
              "<Figure size 432x288 with 1 Axes>"
            ],
            "image/png": "[encoded data removed]"
          },
          "metadata": {
            "needs_background": "light"
          }
        }
      ]
    },
    {
      "cell_type": "code",
      "source": [
        "#club with maximum players in their squad\n",
        "df['Club'].value_counts().head(5).plot(kind = 'bar' , color = sns.color_palette('viridis'))"
      ],
      "metadata": {
        "colab": {
          "base_uri": "https://localhost:8080/",
          "height": 384
        },
        "id": "bMRjlfPElFGP",
        "outputId": "940227b3-5c91-42be-929e-1405421eb0e4"
      },
      "execution_count": null,
      "outputs": [
        {
          "output_type": "execute_result",
          "data": {
            "text/plain": [
              "<matplotlib.axes._subplots.AxesSubplot at 0x7fdd4f1e7750>"
            ]
          },
          "metadata": {},
          "execution_count": 60
        },
        {
          "output_type": "display_data",
          "data": {
            "text/plain": [
              "<Figure size 432x288 with 1 Axes>"
            ],
            "image/png": "[encoded data removed]"
          },
          "metadata": {
            "needs_background": "light"
          }
        }
      ]
    },
    {
      "cell_type": "code",
      "source": [
        "#club with least players in their squad\n",
        "df['Club'].value_counts().nsmallest(5).plot(kind = 'bar' , color = sns.color_palette('viridis'))"
      ],
      "metadata": {
        "colab": {
          "base_uri": "https://localhost:8080/",
          "height": 370
        },
        "id": "VmeOEOfLlrHB",
        "outputId": "7dbc011e-89c7-4fc6-9f93-b454eb92aec6"
      },
      "execution_count": null,
      "outputs": [
        {
          "output_type": "execute_result",
          "data": {
            "text/plain": [
              "<matplotlib.axes._subplots.AxesSubplot at 0x7fdd4ec51090>"
            ]
          },
          "metadata": {},
          "execution_count": 62
        },
        {
          "output_type": "display_data",
          "data": {
            "text/plain": [
              "<Figure size 432x288 with 1 Axes>"
            ],
            "image/png": "[encoded data removed]"
          },
          "metadata": {
            "needs_background": "light"
          }
        }
      ]
    },
    {
      "cell_type": "code",
      "source": [
        "#players based on age group\n",
        "under20 = df[df['Age'] <=20 ]\n",
        "age20_25 = df[(df['Age'] > 20) & (df['Age'] <= 25)]\n",
        "age25_30 = df[(df['Age'] > 25) & (df['Age'] <= 30)]\n",
        "above30 = df[df['Age'] >30 ]"
      ],
      "metadata": {
        "id": "SzxPWbTHmIw1"
      },
      "execution_count": null,
      "outputs": []
    },
    {
      "cell_type": "code",
      "source": [
        "x = np.array([under20['Name'].count(),age20_25['Name'].count(),age25_30['Name'].count(),above30['Name'].count()])\n",
        "labels = [\"<=20\",\">20 & <=25\",\">25 & <=30\",\">30\"]\n",
        "plt.title(\"Total players with age groups\", fontsize = 20)\n",
        "plt.pie(x, labels = labels, autopct = \"%.0f%%\")"
      ],
      "metadata": {
        "colab": {
          "base_uri": "https://localhost:8080/",
          "height": 477
        },
        "id": "7-Z5cKOEm59B",
        "outputId": "0a99a5d8-e928-44b9-8f77-a3fb9fb7de98"
      },
      "execution_count": null,
      "outputs": [
        {
          "output_type": "execute_result",
          "data": {
            "text/plain": [
              "([<matplotlib.patches.Wedge at 0x7fdd4ee82d90>,\n",
              "  <matplotlib.patches.Wedge at 0x7fdd4ee8f650>,\n",
              "  <matplotlib.patches.Wedge at 0x7fdd4ee8fed0>,\n",
              "  <matplotlib.patches.Wedge at 0x7fdd4ee98750>],\n",
              " [Text(0.9853599333701518, 0.4889435567719143, '<=20'),\n",
              "  Text(-0.4772721793080792, 0.9910657227744873, '>20 & <=25'),\n",
              "  Text(-0.45964061401351897, -0.9993650513947722, '>25 & <=30'),\n",
              "  Text(1.0047237910442863, -0.44780587726111565, '>30')],\n",
              " [Text(0.5374690545655373, 0.26669648551195324, '15%'),\n",
              "  Text(-0.2603302796225886, 0.5405813033315385, '35%'),\n",
              "  Text(-0.25071306218919215, -0.5451082098516938, '37%'),\n",
              "  Text(0.5480311587514288, -0.2442577512333358, '13%')])"
            ]
          },
          "metadata": {},
          "execution_count": 66
        },
        {
          "output_type": "display_data",
          "data": {
            "text/plain": [
              "<Figure size 432x288 with 1 Axes>"
            ],
            "image/png": "[encoded data removed]"
          },
          "metadata": {}
        }
      ]
    },
    {
      "cell_type": "code",
      "source": [
        "#total under 20 players in each club\n",
        "players_under_20 = df[df['Age'] <20 ]\n",
        "players_under_20['Club'].value_counts().plot(kind = 'bar',color = sns.color_palette(\"cubehelix\"))\n"
      ],
      "metadata": {
        "colab": {
          "base_uri": "https://localhost:8080/",
          "height": 408
        },
        "id": "moUP_IzUoUmQ",
        "outputId": "a243c0c4-60c0-496d-d99f-6545aa6e8163"
      },
      "execution_count": null,
      "outputs": [
        {
          "output_type": "execute_result",
          "data": {
            "text/plain": [
              "<matplotlib.axes._subplots.AxesSubplot at 0x7fdd4ee779d0>"
            ]
          },
          "metadata": {},
          "execution_count": 69
        },
        {
          "output_type": "display_data",
          "data": {
            "text/plain": [
              "<Figure size 432x288 with 1 Axes>"
            ],
            "image/png": "[encoded data removed]"
          },
          "metadata": {
            "needs_background": "light"
          }
        }
      ]
    },
    {
      "cell_type": "code",
      "source": [
        "#under 20 players in Man U\n",
        "players_under_20[players_under_20['Club']=='Manchester United']"
      ],
      "metadata": {
        "colab": {
          "base_uri": "https://localhost:8080/",
          "height": 472
        },
        "id": "2gknBFxIo_us",
        "outputId": "fb28a128-1174-463c-9395-07e63575c1c5"
      },
      "execution_count": null,
      "outputs": [
        {
          "output_type": "execute_result",
          "data": {
            "text/plain": [
              "                   Name               Club Nationality Position  Age  Matches  \\\n",
              "61      Mason Greenwood  Manchester United         ENG       FW   18       31   \n",
              "72     Brandon Williams  Manchester United         ENG       DF   19        4   \n",
              "73          Amad Diallo  Manchester United         CIV       FW   18        3   \n",
              "74       Anthony Elanga  Manchester United         SWE       FW   18        2   \n",
              "76      Shola Shoretire  Manchester United         ENG       FW   16        2   \n",
              "78      Hannibal Mejbri  Manchester United         FRA       MF   17        1   \n",
              "79  William Thomas Fish  Manchester United         ENG       DF   17        1   \n",
              "\n",
              "    Starts  Mins  Goals  Assists  Passes_Attempted  Perc_Passes_Completed  \\\n",
              "61      21  1822      7        2               732                   83.1   \n",
              "72       2   188      0        0               140                   85.7   \n",
              "73       2   166      0        1                64                   84.4   \n",
              "74       2   155      1        0                53                   81.1   \n",
              "76       0    11      0        0                 8                   75.0   \n",
              "78       0     9      0        0                 3                  100.0   \n",
              "79       0     1      0        0                 1                    0.0   \n",
              "\n",
              "    Penalty_Goals  Penalty_Attempted    xG    xA  Yellow_Cards  Red_Cards  \\\n",
              "61              0                  0  0.37  0.09             2          0   \n",
              "72              0                  0  0.05  0.01             0          0   \n",
              "73              0                  0  0.02  0.26             0          0   \n",
              "74              0                  0  0.16  0.02             0          0   \n",
              "76              0                  0  0.00  0.00             0          0   \n",
              "78              0                  0  0.00  0.00             0          0   \n",
              "79              0                  0  0.00  0.00             0          0   \n",
              "\n",
              "    MinsPerMatch  GoalsPerMatch  \n",
              "61            58       0.225806  \n",
              "72            47       0.000000  \n",
              "73            55       0.000000  \n",
              "74            77       0.500000  \n",
              "76             5       0.000000  \n",
              "78             9       0.000000  \n",
              "79             1       0.000000  "
            ],
            "text/html": [
              "\n",
              "  <div id=\"df-6de192d1-44b7-4b5b-944a-3551770ab3e1\">\n",
              "    <div class=\"colab-df-container\">\n",
              "      <div>\n",
              "<style scoped>\n",
              "    .dataframe tbody tr th:only-of-type {\n",
              "        vertical-align: middle;\n",
              "    }\n",
              "\n",
              "    .dataframe tbody tr th {\n",
              "        vertical-align: top;\n",
              "    }\n",
              "\n",
              "    .dataframe thead th {\n",
              "        text-align: right;\n",
              "    }\n",
              "</style>\n",
              "<table border=\"1\" class=\"dataframe\">\n",
              "  <thead>\n",
              "    <tr style=\"text-align: right;\">\n",
              "      <th></th>\n",
              "      <th>Name</th>\n",
              "      <th>Club</th>\n",
              "      <th>Nationality</th>\n",
              "      <th>Position</th>\n",
              "      <th>Age</th>\n",
              "      <th>Matches</th>\n",
              "      <th>Starts</th>\n",
              "      <th>Mins</th>\n",
              "      <th>Goals</th>\n",
              "      <th>Assists</th>\n",
              "      <th>Passes_Attempted</th>\n",
              "      <th>Perc_Passes_Completed</th>\n",
              "      <th>Penalty_Goals</th>\n",
              "      <th>Penalty_Attempted</th>\n",
              "      <th>xG</th>\n",
              "      <th>xA</th>\n",
              "      <th>Yellow_Cards</th>\n",
              "      <th>Red_Cards</th>\n",
              "      <th>MinsPerMatch</th>\n",
              "      <th>GoalsPerMatch</th>\n",
              "    </tr>\n",
              "  </thead>\n",
              "  <tbody>\n",
              "    <tr>\n",
              "      <th>61</th>\n",
              "      <td>Mason Greenwood</td>\n",
              "      <td>Manchester United</td>\n",
              "      <td>ENG</td>\n",
              "      <td>FW</td>\n",
              "      <td>18</td>\n",
              "      <td>31</td>\n",
              "      <td>21</td>\n",
              "      <td>1822</td>\n",
              "      <td>7</td>\n",
              "      <td>2</td>\n",
              "      <td>732</td>\n",
              "      <td>83.1</td>\n",
              "      <td>0</td>\n",
              "      <td>0</td>\n",
              "      <td>0.37</td>\n",
              "      <td>0.09</td>\n",
              "      <td>2</td>\n",
              "      <td>0</td>\n",
              "      <td>58</td>\n",
              "      <td>0.225806</td>\n",
              "    </tr>\n",
              "    <tr>\n",
              "      <th>72</th>\n",
              "      <td>Brandon Williams</td>\n",
              "      <td>Manchester United</td>\n",
              "      <td>ENG</td>\n",
              "      <td>DF</td>\n",
              "      <td>19</td>\n",
              "      <td>4</td>\n",
              "      <td>2</td>\n",
              "      <td>188</td>\n",
              "      <td>0</td>\n",
              "      <td>0</td>\n",
              "      <td>140</td>\n",
              "      <td>85.7</td>\n",
              "      <td>0</td>\n",
              "      <td>0</td>\n",
              "      <td>0.05</td>\n",
              "      <td>0.01</td>\n",
              "      <td>0</td>\n",
              "      <td>0</td>\n",
              "      <td>47</td>\n",
              "      <td>0.000000</td>\n",
              "    </tr>\n",
              "    <tr>\n",
              "      <th>73</th>\n",
              "      <td>Amad Diallo</td>\n",
              "      <td>Manchester United</td>\n",
              "      <td>CIV</td>\n",
              "      <td>FW</td>\n",
              "      <td>18</td>\n",
              "      <td>3</td>\n",
              "      <td>2</td>\n",
              "      <td>166</td>\n",
              "      <td>0</td>\n",
              "      <td>1</td>\n",
              "      <td>64</td>\n",
              "      <td>84.4</td>\n",
              "      <td>0</td>\n",
              "      <td>0</td>\n",
              "      <td>0.02</td>\n",
              "      <td>0.26</td>\n",
              "      <td>0</td>\n",
              "      <td>0</td>\n",
              "      <td>55</td>\n",
              "      <td>0.000000</td>\n",
              "    </tr>\n",
              "    <tr>\n",
              "      <th>74</th>\n",
              "      <td>Anthony Elanga</td>\n",
              "      <td>Manchester United</td>\n",
              "      <td>SWE</td>\n",
              "      <td>FW</td>\n",
              "      <td>18</td>\n",
              "      <td>2</td>\n",
              "      <td>2</td>\n",
              "      <td>155</td>\n",
              "      <td>1</td>\n",
              "      <td>0</td>\n",
              "      <td>53</td>\n",
              "      <td>81.1</td>\n",
              "      <td>0</td>\n",
              "      <td>0</td>\n",
              "      <td>0.16</td>\n",
              "      <td>0.02</td>\n",
              "      <td>0</td>\n",
              "      <td>0</td>\n",
              "      <td>77</td>\n",
              "      <td>0.500000</td>\n",
              "    </tr>\n",
              "    <tr>\n",
              "      <th>76</th>\n",
              "      <td>Shola Shoretire</td>\n",
              "      <td>Manchester United</td>\n",
              "      <td>ENG</td>\n",
              "      <td>FW</td>\n",
              "      <td>16</td>\n",
              "      <td>2</td>\n",
              "      <td>0</td>\n",
              "      <td>11</td>\n",
              "      <td>0</td>\n",
              "      <td>0</td>\n",
              "      <td>8</td>\n",
              "      <td>75.0</td>\n",
              "      <td>0</td>\n",
              "      <td>0</td>\n",
              "      <td>0.00</td>\n",
              "      <td>0.00</td>\n",
              "      <td>0</td>\n",
              "      <td>0</td>\n",
              "      <td>5</td>\n",
              "      <td>0.000000</td>\n",
              "    </tr>\n",
              "    <tr>\n",
              "      <th>78</th>\n",
              "      <td>Hannibal Mejbri</td>\n",
              "      <td>Manchester United</td>\n",
              "      <td>FRA</td>\n",
              "      <td>MF</td>\n",
              "      <td>17</td>\n",
              "      <td>1</td>\n",
              "      <td>0</td>\n",
              "      <td>9</td>\n",
              "      <td>0</td>\n",
              "      <td>0</td>\n",
              "      <td>3</td>\n",
              "      <td>100.0</td>\n",
              "      <td>0</td>\n",
              "      <td>0</td>\n",
              "      <td>0.00</td>\n",
              "      <td>0.00</td>\n",
              "      <td>0</td>\n",
              "      <td>0</td>\n",
              "      <td>9</td>\n",
              "      <td>0.000000</td>\n",
              "    </tr>\n",
              "    <tr>\n",
              "      <th>79</th>\n",
              "      <td>William Thomas Fish</td>\n",
              "      <td>Manchester United</td>\n",
              "      <td>ENG</td>\n",
              "      <td>DF</td>\n",
              "      <td>17</td>\n",
              "      <td>1</td>\n",
              "      <td>0</td>\n",
              "      <td>1</td>\n",
              "      <td>0</td>\n",
              "      <td>0</td>\n",
              "      <td>1</td>\n",
              "      <td>0.0</td>\n",
              "      <td>0</td>\n",
              "      <td>0</td>\n",
              "      <td>0.00</td>\n",
              "      <td>0.00</td>\n",
              "      <td>0</td>\n",
              "      <td>0</td>\n",
              "      <td>1</td>\n",
              "      <td>0.000000</td>\n",
              "    </tr>\n",
              "  </tbody>\n",
              "</table>\n",
              "</div>\n",
              "      <button class=\"colab-df-convert\" onclick=\"convertToInteractive('df-6de192d1-44b7-4b5b-944a-3551770ab3e1')\"\n",
              "              title=\"Convert this dataframe to an interactive table.\"\n",
              "              style=\"display:none;\">\n",
              "        \n",
              "  <svg xmlns=\"http://www.w3.org/2000/svg\" height=\"24px\"viewBox=\"0 0 24 24\"\n",
              "       width=\"24px\">\n",
              "    <path d=\"M0 0h24v24H0V0z\" fill=\"none\"/>\n",
              "    <path d=\"M18.56 5.44l.94 2.06.94-2.06 2.06-.94-2.06-.94-.94-2.06-.94 2.06-2.06.94zm-11 1L8.5 8.5l.94-2.06 2.06-.94-2.06-.94L8.5 2.5l-.94 2.06-2.06.94zm10 10l.94 2.06.94-2.06 2.06-.94-2.06-.94-.94-2.06-.94 2.06-2.06.94z\"/><path d=\"M17.41 7.96l-1.37-1.37c-.4-.4-.92-.59-1.43-.59-.52 0-1.04.2-1.43.59L10.3 9.45l-7.72 7.72c-.78.78-.78 2.05 0 2.83L4 21.41c.39.39.9.59 1.41.59.51 0 1.02-.2 1.41-.59l7.78-7.78 2.81-2.81c.8-.78.8-2.07 0-2.86zM5.41 20L4 18.59l7.72-7.72 1.47 1.35L5.41 20z\"/>\n",
              "  </svg>\n",
              "      </button>\n",
              "      \n",
              "  <style>\n",
              "    .colab-df-container {\n",
              "      display:flex;\n",
              "      flex-wrap:wrap;\n",
              "      gap: 12px;\n",
              "    }\n",
              "\n",
              "    .colab-df-convert {\n",
              "      background-color: #E8F0FE;\n",
              "      border: none;\n",
              "      border-radius: 50%;\n",
              "      cursor: pointer;\n",
              "      display: none;\n",
              "      fill: #1967D2;\n",
              "      height: 32px;\n",
              "      padding: 0 0 0 0;\n",
              "      width: 32px;\n",
              "    }\n",
              "\n",
              "    .colab-df-convert:hover {\n",
              "      background-color: #E2EBFA;\n",
              "      box-shadow: 0px 1px 2px rgba(60, 64, 67, 0.3), 0px 1px 3px 1px rgba(60, 64, 67, 0.15);\n",
              "      fill: #174EA6;\n",
              "    }\n",
              "\n",
              "    [theme=dark] .colab-df-convert {\n",
              "      background-color: #3B4455;\n",
              "      fill: #D2E3FC;\n",
              "    }\n",
              "\n",
              "    [theme=dark] .colab-df-convert:hover {\n",
              "      background-color: #434B5C;\n",
              "      box-shadow: 0px 1px 3px 1px rgba(0, 0, 0, 0.15);\n",
              "      filter: drop-shadow(0px 1px 2px rgba(0, 0, 0, 0.3));\n",
              "      fill: #FFFFFF;\n",
              "    }\n",
              "  </style>\n",
              "\n",
              "      <script>\n",
              "        const buttonEl =\n",
              "          document.querySelector('#df-6de192d1-44b7-4b5b-944a-3551770ab3e1 button.colab-df-convert');\n",
              "        buttonEl.style.display =\n",
              "          google.colab.kernel.accessAllowed ? 'block' : 'none';\n",
              "\n",
              "        async function convertToInteractive(key) {\n",
              "          const element = document.querySelector('#df-6de192d1-44b7-4b5b-944a-3551770ab3e1');\n",
              "          const dataTable =\n",
              "            await google.colab.kernel.invokeFunction('convertToInteractive',\n",
              "                                                     [key], {});\n",
              "          if (!dataTable) return;\n",
              "\n",
              "          const docLinkHtml = 'Like what you see? Visit the ' +\n",
              "            '<a target=\"_blank\" href=https://colab.research.google.com/notebooks/data_table.ipynb>data table notebook</a>'\n",
              "            + ' to learn more about interactive tables.';\n",
              "          element.innerHTML = '';\n",
              "          dataTable['output_type'] = 'display_data';\n",
              "          await google.colab.output.renderOutput(dataTable, element);\n",
              "          const docLink = document.createElement('div');\n",
              "          docLink.innerHTML = docLinkHtml;\n",
              "          element.appendChild(docLink);\n",
              "        }\n",
              "      </script>\n",
              "    </div>\n",
              "  </div>\n",
              "  "
            ]
          },
          "metadata": {},
          "execution_count": 71
        }
      ]
    },
    {
      "cell_type": "code",
      "source": [
        "#under 20 players in Chelsea\n",
        "players_under_20[players_under_20['Club']=='Chelsea']"
      ],
      "metadata": {
        "colab": {
          "base_uri": "https://localhost:8080/",
          "height": 228
        },
        "id": "zPqNNa2vpOTH",
        "outputId": "c9acff23-ce73-4c90-faa9-bebd7b674554"
      },
      "execution_count": null,
      "outputs": [
        {
          "output_type": "execute_result",
          "data": {
            "text/plain": [
              "                  Name     Club Nationality Position  Age  Matches  Starts  \\\n",
              "18  Callum Hudson-Odoi  Chelsea         ENG    FW,DF   19       23      10   \n",
              "21       Billy Gilmour  Chelsea         SCO       MF   19        5       3   \n",
              "\n",
              "    Mins  Goals  Assists  Passes_Attempted  Perc_Passes_Completed  \\\n",
              "18  1059      2        3               659                   82.2   \n",
              "21   261      0        0               215                   89.3   \n",
              "\n",
              "    Penalty_Goals  Penalty_Attempted    xG    xA  Yellow_Cards  Red_Cards  \\\n",
              "18              0                  0  0.12  0.26             0          0   \n",
              "21              0                  0  0.01  0.04             0          0   \n",
              "\n",
              "    MinsPerMatch  GoalsPerMatch  \n",
              "18            46       0.086957  \n",
              "21            52       0.000000  "
            ],
            "text/html": [
              "\n",
              "  <div id=\"df-bc4d3e28-b227-42fc-8347-95b2a065657d\">\n",
              "    <div class=\"colab-df-container\">\n",
              "      <div>\n",
              "<style scoped>\n",
              "    .dataframe tbody tr th:only-of-type {\n",
              "        vertical-align: middle;\n",
              "    }\n",
              "\n",
              "    .dataframe tbody tr th {\n",
              "        vertical-align: top;\n",
              "    }\n",
              "\n",
              "    .dataframe thead th {\n",
              "        text-align: right;\n",
              "    }\n",
              "</style>\n",
              "<table border=\"1\" class=\"dataframe\">\n",
              "  <thead>\n",
              "    <tr style=\"text-align: right;\">\n",
              "      <th></th>\n",
              "      <th>Name</th>\n",
              "      <th>Club</th>\n",
              "      <th>Nationality</th>\n",
              "      <th>Position</th>\n",
              "      <th>Age</th>\n",
              "      <th>Matches</th>\n",
              "      <th>Starts</th>\n",
              "      <th>Mins</th>\n",
              "      <th>Goals</th>\n",
              "      <th>Assists</th>\n",
              "      <th>Passes_Attempted</th>\n",
              "      <th>Perc_Passes_Completed</th>\n",
              "      <th>Penalty_Goals</th>\n",
              "      <th>Penalty_Attempted</th>\n",
              "      <th>xG</th>\n",
              "      <th>xA</th>\n",
              "      <th>Yellow_Cards</th>\n",
              "      <th>Red_Cards</th>\n",
              "      <th>MinsPerMatch</th>\n",
              "      <th>GoalsPerMatch</th>\n",
              "    </tr>\n",
              "  </thead>\n",
              "  <tbody>\n",
              "    <tr>\n",
              "      <th>18</th>\n",
              "      <td>Callum Hudson-Odoi</td>\n",
              "      <td>Chelsea</td>\n",
              "      <td>ENG</td>\n",
              "      <td>FW,DF</td>\n",
              "      <td>19</td>\n",
              "      <td>23</td>\n",
              "      <td>10</td>\n",
              "      <td>1059</td>\n",
              "      <td>2</td>\n",
              "      <td>3</td>\n",
              "      <td>659</td>\n",
              "      <td>82.2</td>\n",
              "      <td>0</td>\n",
              "      <td>0</td>\n",
              "      <td>0.12</td>\n",
              "      <td>0.26</td>\n",
              "      <td>0</td>\n",
              "      <td>0</td>\n",
              "      <td>46</td>\n",
              "      <td>0.086957</td>\n",
              "    </tr>\n",
              "    <tr>\n",
              "      <th>21</th>\n",
              "      <td>Billy Gilmour</td>\n",
              "      <td>Chelsea</td>\n",
              "      <td>SCO</td>\n",
              "      <td>MF</td>\n",
              "      <td>19</td>\n",
              "      <td>5</td>\n",
              "      <td>3</td>\n",
              "      <td>261</td>\n",
              "      <td>0</td>\n",
              "      <td>0</td>\n",
              "      <td>215</td>\n",
              "      <td>89.3</td>\n",
              "      <td>0</td>\n",
              "      <td>0</td>\n",
              "      <td>0.01</td>\n",
              "      <td>0.04</td>\n",
              "      <td>0</td>\n",
              "      <td>0</td>\n",
              "      <td>52</td>\n",
              "      <td>0.000000</td>\n",
              "    </tr>\n",
              "  </tbody>\n",
              "</table>\n",
              "</div>\n",
              "      <button class=\"colab-df-convert\" onclick=\"convertToInteractive('df-bc4d3e28-b227-42fc-8347-95b2a065657d')\"\n",
              "              title=\"Convert this dataframe to an interactive table.\"\n",
              "              style=\"display:none;\">\n",
              "        \n",
              "  <svg xmlns=\"http://www.w3.org/2000/svg\" height=\"24px\"viewBox=\"0 0 24 24\"\n",
              "       width=\"24px\">\n",
              "    <path d=\"M0 0h24v24H0V0z\" fill=\"none\"/>\n",
              "    <path d=\"M18.56 5.44l.94 2.06.94-2.06 2.06-.94-2.06-.94-.94-2.06-.94 2.06-2.06.94zm-11 1L8.5 8.5l.94-2.06 2.06-.94-2.06-.94L8.5 2.5l-.94 2.06-2.06.94zm10 10l.94 2.06.94-2.06 2.06-.94-2.06-.94-.94-2.06-.94 2.06-2.06.94z\"/><path d=\"M17.41 7.96l-1.37-1.37c-.4-.4-.92-.59-1.43-.59-.52 0-1.04.2-1.43.59L10.3 9.45l-7.72 7.72c-.78.78-.78 2.05 0 2.83L4 21.41c.39.39.9.59 1.41.59.51 0 1.02-.2 1.41-.59l7.78-7.78 2.81-2.81c.8-.78.8-2.07 0-2.86zM5.41 20L4 18.59l7.72-7.72 1.47 1.35L5.41 20z\"/>\n",
              "  </svg>\n",
              "      </button>\n",
              "      \n",
              "  <style>\n",
              "    .colab-df-container {\n",
              "      display:flex;\n",
              "      flex-wrap:wrap;\n",
              "      gap: 12px;\n",
              "    }\n",
              "\n",
              "    .colab-df-convert {\n",
              "      background-color: #E8F0FE;\n",
              "      border: none;\n",
              "      border-radius: 50%;\n",
              "      cursor: pointer;\n",
              "      display: none;\n",
              "      fill: #1967D2;\n",
              "      height: 32px;\n",
              "      padding: 0 0 0 0;\n",
              "      width: 32px;\n",
              "    }\n",
              "\n",
              "    .colab-df-convert:hover {\n",
              "      background-color: #E2EBFA;\n",
              "      box-shadow: 0px 1px 2px rgba(60, 64, 67, 0.3), 0px 1px 3px 1px rgba(60, 64, 67, 0.15);\n",
              "      fill: #174EA6;\n",
              "    }\n",
              "\n",
              "    [theme=dark] .colab-df-convert {\n",
              "      background-color: #3B4455;\n",
              "      fill: #D2E3FC;\n",
              "    }\n",
              "\n",
              "    [theme=dark] .colab-df-convert:hover {\n",
              "      background-color: #434B5C;\n",
              "      box-shadow: 0px 1px 3px 1px rgba(0, 0, 0, 0.15);\n",
              "      filter: drop-shadow(0px 1px 2px rgba(0, 0, 0, 0.3));\n",
              "      fill: #FFFFFF;\n",
              "    }\n",
              "  </style>\n",
              "\n",
              "      <script>\n",
              "        const buttonEl =\n",
              "          document.querySelector('#df-bc4d3e28-b227-42fc-8347-95b2a065657d button.colab-df-convert');\n",
              "        buttonEl.style.display =\n",
              "          google.colab.kernel.accessAllowed ? 'block' : 'none';\n",
              "\n",
              "        async function convertToInteractive(key) {\n",
              "          const element = document.querySelector('#df-bc4d3e28-b227-42fc-8347-95b2a065657d');\n",
              "          const dataTable =\n",
              "            await google.colab.kernel.invokeFunction('convertToInteractive',\n",
              "                                                     [key], {});\n",
              "          if (!dataTable) return;\n",
              "\n",
              "          const docLinkHtml = 'Like what you see? Visit the ' +\n",
              "            '<a target=\"_blank\" href=https://colab.research.google.com/notebooks/data_table.ipynb>data table notebook</a>'\n",
              "            + ' to learn more about interactive tables.';\n",
              "          element.innerHTML = '';\n",
              "          dataTable['output_type'] = 'display_data';\n",
              "          await google.colab.output.renderOutput(dataTable, element);\n",
              "          const docLink = document.createElement('div');\n",
              "          docLink.innerHTML = docLinkHtml;\n",
              "          element.appendChild(docLink);\n",
              "        }\n",
              "      </script>\n",
              "    </div>\n",
              "  </div>\n",
              "  "
            ]
          },
          "metadata": {},
          "execution_count": 73
        }
      ]
    },
    {
      "cell_type": "code",
      "source": [
        "#average age of players in each club\n",
        "plt.figure(figsize=(13,6))\n",
        "sns.boxplot(x = 'Club', y = 'Age', data =df)\n",
        "plt.xticks(rotation = 90)"
      ],
      "metadata": {
        "colab": {
          "base_uri": "https://localhost:8080/",
          "height": 549
        },
        "id": "2xsWQestpuE1",
        "outputId": "4b888cea-45eb-40f4-9d81-ccfe93c30960"
      },
      "execution_count": null,
      "outputs": [
        {
          "output_type": "execute_result",
          "data": {
            "text/plain": [
              "(array([ 0,  1,  2,  3,  4,  5,  6,  7,  8,  9, 10, 11, 12, 13, 14, 15, 16,\n",
              "        17, 18, 19]), <a list of 20 Text major ticklabel objects>)"
            ]
          },
          "metadata": {},
          "execution_count": 76
        },
        {
          "output_type": "display_data",
          "data": {
            "text/plain": [
              "<Figure size 936x432 with 1 Axes>"
            ],
            "image/png": "[encoded data removed]"
          },
          "metadata": {
            "needs_background": "light"
          }
        }
      ]
    },
    {
      "cell_type": "code",
      "source": [
        "num_players = df.groupby('Club').size()\n",
        "data = (df.groupby('Club')['Age'].sum()) / num_players\n",
        "data.sort_values(ascending = False)"
      ],
      "metadata": {
        "colab": {
          "base_uri": "https://localhost:8080/"
        },
        "id": "qiDZsizXr0Bg",
        "outputId": "2038f753-0a49-4956-8411-85c19d7b67eb"
      },
      "execution_count": null,
      "outputs": [
        {
          "output_type": "execute_result",
          "data": {
            "text/plain": [
              "Club\n",
              "Crystal Palace             28.333333\n",
              "West Ham United            27.500000\n",
              "Burnley                    27.040000\n",
              "West Bromwich Albion       26.766667\n",
              "Newcastle United           26.074074\n",
              "Manchester City            25.708333\n",
              "Tottenham Hotspur          25.625000\n",
              "Chelsea                    25.592593\n",
              "Leicester City             25.592593\n",
              "Liverpool FC               25.571429\n",
              "Everton                    25.413793\n",
              "Leeds United               25.347826\n",
              "Fulham                     25.035714\n",
              "Arsenal                    24.965517\n",
              "Sheffield United           24.814815\n",
              "Brighton                   24.555556\n",
              "Wolverhampton Wanderers    24.444444\n",
              "Aston Villa                24.291667\n",
              "Southampton                24.137931\n",
              "Manchester United          23.862069\n",
              "dtype: float64"
            ]
          },
          "metadata": {},
          "execution_count": 77
        }
      ]
    },
    {
      "cell_type": "code",
      "source": [
        "# Total assists from each club\n",
        "\n",
        "assists_by_clubs = pd.DataFrame(df.groupby('Club', as_index=False)['Assists'].sum())\n",
        "ax = sns.barplot(x = 'Club' , y = 'Assists' , data = assists_by_clubs.sort_values(by='Assists'),palette='Set2')\n",
        "ax.set_xlabel('Club')\n",
        "ax.set_ylabel('Assists')\n",
        "plt.xticks(rotation=75)\n",
        "plt.rcParams['figure.figsize'] = (20,8)\n",
        "plt.title('Plot of clubs vs total assists', fontsize = 20)"
      ],
      "metadata": {
        "colab": {
          "base_uri": "https://localhost:8080/",
          "height": 441
        },
        "id": "brJbZUdosicj",
        "outputId": "cad6d609-25df-46f4-b4da-044b5dbd00c4"
      },
      "execution_count": null,
      "outputs": [
        {
          "output_type": "execute_result",
          "data": {
            "text/plain": [
              "Text(0.5, 1.0, 'Plot of clubs vs total assists')"
            ]
          },
          "metadata": {},
          "execution_count": 83
        },
        {
          "output_type": "display_data",
          "data": {
            "text/plain": [
              "<Figure size 432x288 with 1 Axes>"
            ],
            "image/png": "[encoded data removed]"
          },
          "metadata": {
            "needs_background": "light"
          }
        }
      ]
    },
    {
      "cell_type": "code",
      "source": [
        "#Top 10 Assists\n",
        "top_10_assists = df[['Name','Club','Assists','Matches']].nlargest(n=10,columns='Assists')\n",
        "top_10_assists"
      ],
      "metadata": {
        "colab": {
          "base_uri": "https://localhost:8080/",
          "height": 363
        },
        "id": "mbuepK3-u5um",
        "outputId": "a1aa9909-bf14-4032-c861-f54f9f440c64"
      },
      "execution_count": null,
      "outputs": [
        {
          "output_type": "execute_result",
          "data": {
            "text/plain": [
              "                     Name               Club  Assists  Matches\n",
              "162            Harry Kane  Tottenham Hotspur       14       35\n",
              "34        Kevin De Bruyne    Manchester City       12       25\n",
              "51        Bruno Fernandes  Manchester United       12       37\n",
              "161         Son Heung-min  Tottenham Hotspur       10       37\n",
              "273         Jack Grealish        Aston Villa       10       26\n",
              "54        Marcus Rashford  Manchester United        9       37\n",
              "110           Jamie Vardy     Leicester City        9       34\n",
              "220  Raphael Dias Belloli       Leeds United        9       30\n",
              "2             Timo Werner            Chelsea        8       35\n",
              "136       Aaron Cresswell    West Ham United        8       36"
            ],
            "text/html": [
              "\n",
              "  <div id=\"df-1238f3ba-fdce-49b7-832e-6b437797b059\">\n",
              "    <div class=\"colab-df-container\">\n",
              "      <div>\n",
              "<style scoped>\n",
              "    .dataframe tbody tr th:only-of-type {\n",
              "        vertical-align: middle;\n",
              "    }\n",
              "\n",
              "    .dataframe tbody tr th {\n",
              "        vertical-align: top;\n",
              "    }\n",
              "\n",
              "    .dataframe thead th {\n",
              "        text-align: right;\n",
              "    }\n",
              "</style>\n",
              "<table border=\"1\" class=\"dataframe\">\n",
              "  <thead>\n",
              "    <tr style=\"text-align: right;\">\n",
              "      <th></th>\n",
              "      <th>Name</th>\n",
              "      <th>Club</th>\n",
              "      <th>Assists</th>\n",
              "      <th>Matches</th>\n",
              "    </tr>\n",
              "  </thead>\n",
              "  <tbody>\n",
              "    <tr>\n",
              "      <th>162</th>\n",
              "      <td>Harry Kane</td>\n",
              "      <td>Tottenham Hotspur</td>\n",
              "      <td>14</td>\n",
              "      <td>35</td>\n",
              "    </tr>\n",
              "    <tr>\n",
              "      <th>34</th>\n",
              "      <td>Kevin De Bruyne</td>\n",
              "      <td>Manchester City</td>\n",
              "      <td>12</td>\n",
              "      <td>25</td>\n",
              "    </tr>\n",
              "    <tr>\n",
              "      <th>51</th>\n",
              "      <td>Bruno Fernandes</td>\n",
              "      <td>Manchester United</td>\n",
              "      <td>12</td>\n",
              "      <td>37</td>\n",
              "    </tr>\n",
              "    <tr>\n",
              "      <th>161</th>\n",
              "      <td>Son Heung-min</td>\n",
              "      <td>Tottenham Hotspur</td>\n",
              "      <td>10</td>\n",
              "      <td>37</td>\n",
              "    </tr>\n",
              "    <tr>\n",
              "      <th>273</th>\n",
              "      <td>Jack Grealish</td>\n",
              "      <td>Aston Villa</td>\n",
              "      <td>10</td>\n",
              "      <td>26</td>\n",
              "    </tr>\n",
              "    <tr>\n",
              "      <th>54</th>\n",
              "      <td>Marcus Rashford</td>\n",
              "      <td>Manchester United</td>\n",
              "      <td>9</td>\n",
              "      <td>37</td>\n",
              "    </tr>\n",
              "    <tr>\n",
              "      <th>110</th>\n",
              "      <td>Jamie Vardy</td>\n",
              "      <td>Leicester City</td>\n",
              "      <td>9</td>\n",
              "      <td>34</td>\n",
              "    </tr>\n",
              "    <tr>\n",
              "      <th>220</th>\n",
              "      <td>Raphael Dias Belloli</td>\n",
              "      <td>Leeds United</td>\n",
              "      <td>9</td>\n",
              "      <td>30</td>\n",
              "    </tr>\n",
              "    <tr>\n",
              "      <th>2</th>\n",
              "      <td>Timo Werner</td>\n",
              "      <td>Chelsea</td>\n",
              "      <td>8</td>\n",
              "      <td>35</td>\n",
              "    </tr>\n",
              "    <tr>\n",
              "      <th>136</th>\n",
              "      <td>Aaron Cresswell</td>\n",
              "      <td>West Ham United</td>\n",
              "      <td>8</td>\n",
              "      <td>36</td>\n",
              "    </tr>\n",
              "  </tbody>\n",
              "</table>\n",
              "</div>\n",
              "      <button class=\"colab-df-convert\" onclick=\"convertToInteractive('df-1238f3ba-fdce-49b7-832e-6b437797b059')\"\n",
              "              title=\"Convert this dataframe to an interactive table.\"\n",
              "              style=\"display:none;\">\n",
              "        \n",
              "  <svg xmlns=\"http://www.w3.org/2000/svg\" height=\"24px\"viewBox=\"0 0 24 24\"\n",
              "       width=\"24px\">\n",
              "    <path d=\"M0 0h24v24H0V0z\" fill=\"none\"/>\n",
              "    <path d=\"M18.56 5.44l.94 2.06.94-2.06 2.06-.94-2.06-.94-.94-2.06-.94 2.06-2.06.94zm-11 1L8.5 8.5l.94-2.06 2.06-.94-2.06-.94L8.5 2.5l-.94 2.06-2.06.94zm10 10l.94 2.06.94-2.06 2.06-.94-2.06-.94-.94-2.06-.94 2.06-2.06.94z\"/><path d=\"M17.41 7.96l-1.37-1.37c-.4-.4-.92-.59-1.43-.59-.52 0-1.04.2-1.43.59L10.3 9.45l-7.72 7.72c-.78.78-.78 2.05 0 2.83L4 21.41c.39.39.9.59 1.41.59.51 0 1.02-.2 1.41-.59l7.78-7.78 2.81-2.81c.8-.78.8-2.07 0-2.86zM5.41 20L4 18.59l7.72-7.72 1.47 1.35L5.41 20z\"/>\n",
              "  </svg>\n",
              "      </button>\n",
              "      \n",
              "  <style>\n",
              "    .colab-df-container {\n",
              "      display:flex;\n",
              "      flex-wrap:wrap;\n",
              "      gap: 12px;\n",
              "    }\n",
              "\n",
              "    .colab-df-convert {\n",
              "      background-color: #E8F0FE;\n",
              "      border: none;\n",
              "      border-radius: 50%;\n",
              "      cursor: pointer;\n",
              "      display: none;\n",
              "      fill: #1967D2;\n",
              "      height: 32px;\n",
              "      padding: 0 0 0 0;\n",
              "      width: 32px;\n",
              "    }\n",
              "\n",
              "    .colab-df-convert:hover {\n",
              "      background-color: #E2EBFA;\n",
              "      box-shadow: 0px 1px 2px rgba(60, 64, 67, 0.3), 0px 1px 3px 1px rgba(60, 64, 67, 0.15);\n",
              "      fill: #174EA6;\n",
              "    }\n",
              "\n",
              "    [theme=dark] .colab-df-convert {\n",
              "      background-color: #3B4455;\n",
              "      fill: #D2E3FC;\n",
              "    }\n",
              "\n",
              "    [theme=dark] .colab-df-convert:hover {\n",
              "      background-color: #434B5C;\n",
              "      box-shadow: 0px 1px 3px 1px rgba(0, 0, 0, 0.15);\n",
              "      filter: drop-shadow(0px 1px 2px rgba(0, 0, 0, 0.3));\n",
              "      fill: #FFFFFF;\n",
              "    }\n",
              "  </style>\n",
              "\n",
              "      <script>\n",
              "        const buttonEl =\n",
              "          document.querySelector('#df-1238f3ba-fdce-49b7-832e-6b437797b059 button.colab-df-convert');\n",
              "        buttonEl.style.display =\n",
              "          google.colab.kernel.accessAllowed ? 'block' : 'none';\n",
              "\n",
              "        async function convertToInteractive(key) {\n",
              "          const element = document.querySelector('#df-1238f3ba-fdce-49b7-832e-6b437797b059');\n",
              "          const dataTable =\n",
              "            await google.colab.kernel.invokeFunction('convertToInteractive',\n",
              "                                                     [key], {});\n",
              "          if (!dataTable) return;\n",
              "\n",
              "          const docLinkHtml = 'Like what you see? Visit the ' +\n",
              "            '<a target=\"_blank\" href=https://colab.research.google.com/notebooks/data_table.ipynb>data table notebook</a>'\n",
              "            + ' to learn more about interactive tables.';\n",
              "          element.innerHTML = '';\n",
              "          dataTable['output_type'] = 'display_data';\n",
              "          await google.colab.output.renderOutput(dataTable, element);\n",
              "          const docLink = document.createElement('div');\n",
              "          docLink.innerHTML = docLinkHtml;\n",
              "          element.appendChild(docLink);\n",
              "        }\n",
              "      </script>\n",
              "    </div>\n",
              "  </div>\n",
              "  "
            ]
          },
          "metadata": {},
          "execution_count": 85
        }
      ]
    },
    {
      "cell_type": "code",
      "source": [
        "# Total Goals from each club\n",
        "\n",
        "goals_by_clubs = pd.DataFrame(df.groupby('Club', as_index=False)['Goals'].sum())\n",
        "ax = sns.barplot(x = 'Club' , y = 'Goals' , data = goals_by_clubs.sort_values(by='Goals'),palette='rocket')\n",
        "ax.set_xlabel('Club')\n",
        "ax.set_ylabel('Goals')\n",
        "plt.xticks(rotation=75)\n",
        "plt.rcParams['figure.figsize'] = (20,8)\n",
        "plt.title('Plot of clubs vs total goals', fontsize = 20)"
      ],
      "metadata": {
        "colab": {
          "base_uri": "https://localhost:8080/",
          "height": 483
        },
        "id": "75xaYkw-vSiv",
        "outputId": "4c21c07a-d182-40dc-bbbb-9505c0bfe4c4"
      },
      "execution_count": null,
      "outputs": [
        {
          "output_type": "execute_result",
          "data": {
            "text/plain": [
              "Text(0.5, 1.0, 'Plot of clubs vs total goals')"
            ]
          },
          "metadata": {},
          "execution_count": 87
        },
        {
          "output_type": "display_data",
          "data": {
            "text/plain": [
              "<Figure size 1440x576 with 1 Axes>"
            ],
            "image/png": "[encoded data removed]"
          },
          "metadata": {
            "needs_background": "light"
          }
        }
      ]
    },
    {
      "cell_type": "code",
      "source": [
        "#Most goals by players\n",
        "\n",
        "top_10_goals = df[['Name','Club','Goals','Matches']].nlargest(n=10,columns='Goals')\n",
        "top_10_goals"
      ],
      "metadata": {
        "colab": {
          "base_uri": "https://localhost:8080/",
          "height": 363
        },
        "id": "9SNltds4v3Y5",
        "outputId": "ed769112-d77b-4b9d-8b3e-5f89c46f285b"
      },
      "execution_count": null,
      "outputs": [
        {
          "output_type": "execute_result",
          "data": {
            "text/plain": [
              "                      Name               Club  Goals  Matches\n",
              "162             Harry Kane  Tottenham Hotspur     23       35\n",
              "81           Mohamed Salah       Liverpool FC     22       37\n",
              "51         Bruno Fernandes  Manchester United     18       37\n",
              "161          Son Heung-min  Tottenham Hotspur     17       37\n",
              "214        Patrick Bamford       Leeds United     17       38\n",
              "237  Dominic Calvert-Lewin            Everton     16       33\n",
              "110            Jamie Vardy     Leicester City     15       34\n",
              "267          Ollie Watkins        Aston Villa     14       37\n",
              "33          İlkay Gündoğan    Manchester City     13       28\n",
              "191    Alexandre Lacazette            Arsenal     13       31"
            ],
            "text/html": [
              "\n",
              "  <div id=\"df-85c5023a-6341-4e8a-be74-e7b4128e1140\">\n",
              "    <div class=\"colab-df-container\">\n",
              "      <div>\n",
              "<style scoped>\n",
              "    .dataframe tbody tr th:only-of-type {\n",
              "        vertical-align: middle;\n",
              "    }\n",
              "\n",
              "    .dataframe tbody tr th {\n",
              "        vertical-align: top;\n",
              "    }\n",
              "\n",
              "    .dataframe thead th {\n",
              "        text-align: right;\n",
              "    }\n",
              "</style>\n",
              "<table border=\"1\" class=\"dataframe\">\n",
              "  <thead>\n",
              "    <tr style=\"text-align: right;\">\n",
              "      <th></th>\n",
              "      <th>Name</th>\n",
              "      <th>Club</th>\n",
              "      <th>Goals</th>\n",
              "      <th>Matches</th>\n",
              "    </tr>\n",
              "  </thead>\n",
              "  <tbody>\n",
              "    <tr>\n",
              "      <th>162</th>\n",
              "      <td>Harry Kane</td>\n",
              "      <td>Tottenham Hotspur</td>\n",
              "      <td>23</td>\n",
              "      <td>35</td>\n",
              "    </tr>\n",
              "    <tr>\n",
              "      <th>81</th>\n",
              "      <td>Mohamed Salah</td>\n",
              "      <td>Liverpool FC</td>\n",
              "      <td>22</td>\n",
              "      <td>37</td>\n",
              "    </tr>\n",
              "    <tr>\n",
              "      <th>51</th>\n",
              "      <td>Bruno Fernandes</td>\n",
              "      <td>Manchester United</td>\n",
              "      <td>18</td>\n",
              "      <td>37</td>\n",
              "    </tr>\n",
              "    <tr>\n",
              "      <th>161</th>\n",
              "      <td>Son Heung-min</td>\n",
              "      <td>Tottenham Hotspur</td>\n",
              "      <td>17</td>\n",
              "      <td>37</td>\n",
              "    </tr>\n",
              "    <tr>\n",
              "      <th>214</th>\n",
              "      <td>Patrick Bamford</td>\n",
              "      <td>Leeds United</td>\n",
              "      <td>17</td>\n",
              "      <td>38</td>\n",
              "    </tr>\n",
              "    <tr>\n",
              "      <th>237</th>\n",
              "      <td>Dominic Calvert-Lewin</td>\n",
              "      <td>Everton</td>\n",
              "      <td>16</td>\n",
              "      <td>33</td>\n",
              "    </tr>\n",
              "    <tr>\n",
              "      <th>110</th>\n",
              "      <td>Jamie Vardy</td>\n",
              "      <td>Leicester City</td>\n",
              "      <td>15</td>\n",
              "      <td>34</td>\n",
              "    </tr>\n",
              "    <tr>\n",
              "      <th>267</th>\n",
              "      <td>Ollie Watkins</td>\n",
              "      <td>Aston Villa</td>\n",
              "      <td>14</td>\n",
              "      <td>37</td>\n",
              "    </tr>\n",
              "    <tr>\n",
              "      <th>33</th>\n",
              "      <td>İlkay Gündoğan</td>\n",
              "      <td>Manchester City</td>\n",
              "      <td>13</td>\n",
              "      <td>28</td>\n",
              "    </tr>\n",
              "    <tr>\n",
              "      <th>191</th>\n",
              "      <td>Alexandre Lacazette</td>\n",
              "      <td>Arsenal</td>\n",
              "      <td>13</td>\n",
              "      <td>31</td>\n",
              "    </tr>\n",
              "  </tbody>\n",
              "</table>\n",
              "</div>\n",
              "      <button class=\"colab-df-convert\" onclick=\"convertToInteractive('df-85c5023a-6341-4e8a-be74-e7b4128e1140')\"\n",
              "              title=\"Convert this dataframe to an interactive table.\"\n",
              "              style=\"display:none;\">\n",
              "        \n",
              "  <svg xmlns=\"http://www.w3.org/2000/svg\" height=\"24px\"viewBox=\"0 0 24 24\"\n",
              "       width=\"24px\">\n",
              "    <path d=\"M0 0h24v24H0V0z\" fill=\"none\"/>\n",
              "    <path d=\"M18.56 5.44l.94 2.06.94-2.06 2.06-.94-2.06-.94-.94-2.06-.94 2.06-2.06.94zm-11 1L8.5 8.5l.94-2.06 2.06-.94-2.06-.94L8.5 2.5l-.94 2.06-2.06.94zm10 10l.94 2.06.94-2.06 2.06-.94-2.06-.94-.94-2.06-.94 2.06-2.06.94z\"/><path d=\"M17.41 7.96l-1.37-1.37c-.4-.4-.92-.59-1.43-.59-.52 0-1.04.2-1.43.59L10.3 9.45l-7.72 7.72c-.78.78-.78 2.05 0 2.83L4 21.41c.39.39.9.59 1.41.59.51 0 1.02-.2 1.41-.59l7.78-7.78 2.81-2.81c.8-.78.8-2.07 0-2.86zM5.41 20L4 18.59l7.72-7.72 1.47 1.35L5.41 20z\"/>\n",
              "  </svg>\n",
              "      </button>\n",
              "      \n",
              "  <style>\n",
              "    .colab-df-container {\n",
              "      display:flex;\n",
              "      flex-wrap:wrap;\n",
              "      gap: 12px;\n",
              "    }\n",
              "\n",
              "    .colab-df-convert {\n",
              "      background-color: #E8F0FE;\n",
              "      border: none;\n",
              "      border-radius: 50%;\n",
              "      cursor: pointer;\n",
              "      display: none;\n",
              "      fill: #1967D2;\n",
              "      height: 32px;\n",
              "      padding: 0 0 0 0;\n",
              "      width: 32px;\n",
              "    }\n",
              "\n",
              "    .colab-df-convert:hover {\n",
              "      background-color: #E2EBFA;\n",
              "      box-shadow: 0px 1px 2px rgba(60, 64, 67, 0.3), 0px 1px 3px 1px rgba(60, 64, 67, 0.15);\n",
              "      fill: #174EA6;\n",
              "    }\n",
              "\n",
              "    [theme=dark] .colab-df-convert {\n",
              "      background-color: #3B4455;\n",
              "      fill: #D2E3FC;\n",
              "    }\n",
              "\n",
              "    [theme=dark] .colab-df-convert:hover {\n",
              "      background-color: #434B5C;\n",
              "      box-shadow: 0px 1px 3px 1px rgba(0, 0, 0, 0.15);\n",
              "      filter: drop-shadow(0px 1px 2px rgba(0, 0, 0, 0.3));\n",
              "      fill: #FFFFFF;\n",
              "    }\n",
              "  </style>\n",
              "\n",
              "      <script>\n",
              "        const buttonEl =\n",
              "          document.querySelector('#df-85c5023a-6341-4e8a-be74-e7b4128e1140 button.colab-df-convert');\n",
              "        buttonEl.style.display =\n",
              "          google.colab.kernel.accessAllowed ? 'block' : 'none';\n",
              "\n",
              "        async function convertToInteractive(key) {\n",
              "          const element = document.querySelector('#df-85c5023a-6341-4e8a-be74-e7b4128e1140');\n",
              "          const dataTable =\n",
              "            await google.colab.kernel.invokeFunction('convertToInteractive',\n",
              "                                                     [key], {});\n",
              "          if (!dataTable) return;\n",
              "\n",
              "          const docLinkHtml = 'Like what you see? Visit the ' +\n",
              "            '<a target=\"_blank\" href=https://colab.research.google.com/notebooks/data_table.ipynb>data table notebook</a>'\n",
              "            + ' to learn more about interactive tables.';\n",
              "          element.innerHTML = '';\n",
              "          dataTable['output_type'] = 'display_data';\n",
              "          await google.colab.output.renderOutput(dataTable, element);\n",
              "          const docLink = document.createElement('div');\n",
              "          docLink.innerHTML = docLinkHtml;\n",
              "          element.appendChild(docLink);\n",
              "        }\n",
              "      </script>\n",
              "    </div>\n",
              "  </div>\n",
              "  "
            ]
          },
          "metadata": {},
          "execution_count": 89
        }
      ]
    },
    {
      "cell_type": "code",
      "source": [
        "#Goals per match\n",
        "\n",
        "top_10_goals_per_match = df[['Name','GoalsPerMatch','Matches','Goals']].nlargest(n=10,columns='GoalsPerMatch')\n",
        "top_10_goals_per_match"
      ],
      "metadata": {
        "colab": {
          "base_uri": "https://localhost:8080/",
          "height": 363
        },
        "id": "1o5GA5EkwNTK",
        "outputId": "8db13d13-e5ee-43b6-d841-b8b0772b4d56"
      },
      "execution_count": null,
      "outputs": [
        {
          "output_type": "execute_result",
          "data": {
            "text/plain": [
              "                      Name  GoalsPerMatch  Matches  Goals\n",
              "162             Harry Kane       0.657143       35     23\n",
              "81           Mohamed Salah       0.594595       37     22\n",
              "307            Joe Willock       0.571429       14      8\n",
              "145          Jesse Lingard       0.562500       16      9\n",
              "175            Gareth Bale       0.550000       20     11\n",
              "74          Anthony Elanga       0.500000        2      1\n",
              "51         Bruno Fernandes       0.486486       37     18\n",
              "237  Dominic Calvert-Lewin       0.484848       33     16\n",
              "120      Kelechi Iheanacho       0.480000       25     12\n",
              "92              Diogo Jota       0.473684       19      9"
            ],
            "text/html": [
              "\n",
              "  <div id=\"df-c7404d07-207d-44a8-a95f-63dee89273d4\">\n",
              "    <div class=\"colab-df-container\">\n",
              "      <div>\n",
              "<style scoped>\n",
              "    .dataframe tbody tr th:only-of-type {\n",
              "        vertical-align: middle;\n",
              "    }\n",
              "\n",
              "    .dataframe tbody tr th {\n",
              "        vertical-align: top;\n",
              "    }\n",
              "\n",
              "    .dataframe thead th {\n",
              "        text-align: right;\n",
              "    }\n",
              "</style>\n",
              "<table border=\"1\" class=\"dataframe\">\n",
              "  <thead>\n",
              "    <tr style=\"text-align: right;\">\n",
              "      <th></th>\n",
              "      <th>Name</th>\n",
              "      <th>GoalsPerMatch</th>\n",
              "      <th>Matches</th>\n",
              "      <th>Goals</th>\n",
              "    </tr>\n",
              "  </thead>\n",
              "  <tbody>\n",
              "    <tr>\n",
              "      <th>162</th>\n",
              "      <td>Harry Kane</td>\n",
              "      <td>0.657143</td>\n",
              "      <td>35</td>\n",
              "      <td>23</td>\n",
              "    </tr>\n",
              "    <tr>\n",
              "      <th>81</th>\n",
              "      <td>Mohamed Salah</td>\n",
              "      <td>0.594595</td>\n",
              "      <td>37</td>\n",
              "      <td>22</td>\n",
              "    </tr>\n",
              "    <tr>\n",
              "      <th>307</th>\n",
              "      <td>Joe Willock</td>\n",
              "      <td>0.571429</td>\n",
              "      <td>14</td>\n",
              "      <td>8</td>\n",
              "    </tr>\n",
              "    <tr>\n",
              "      <th>145</th>\n",
              "      <td>Jesse Lingard</td>\n",
              "      <td>0.562500</td>\n",
              "      <td>16</td>\n",
              "      <td>9</td>\n",
              "    </tr>\n",
              "    <tr>\n",
              "      <th>175</th>\n",
              "      <td>Gareth Bale</td>\n",
              "      <td>0.550000</td>\n",
              "      <td>20</td>\n",
              "      <td>11</td>\n",
              "    </tr>\n",
              "    <tr>\n",
              "      <th>74</th>\n",
              "      <td>Anthony Elanga</td>\n",
              "      <td>0.500000</td>\n",
              "      <td>2</td>\n",
              "      <td>1</td>\n",
              "    </tr>\n",
              "    <tr>\n",
              "      <th>51</th>\n",
              "      <td>Bruno Fernandes</td>\n",
              "      <td>0.486486</td>\n",
              "      <td>37</td>\n",
              "      <td>18</td>\n",
              "    </tr>\n",
              "    <tr>\n",
              "      <th>237</th>\n",
              "      <td>Dominic Calvert-Lewin</td>\n",
              "      <td>0.484848</td>\n",
              "      <td>33</td>\n",
              "      <td>16</td>\n",
              "    </tr>\n",
              "    <tr>\n",
              "      <th>120</th>\n",
              "      <td>Kelechi Iheanacho</td>\n",
              "      <td>0.480000</td>\n",
              "      <td>25</td>\n",
              "      <td>12</td>\n",
              "    </tr>\n",
              "    <tr>\n",
              "      <th>92</th>\n",
              "      <td>Diogo Jota</td>\n",
              "      <td>0.473684</td>\n",
              "      <td>19</td>\n",
              "      <td>9</td>\n",
              "    </tr>\n",
              "  </tbody>\n",
              "</table>\n",
              "</div>\n",
              "      <button class=\"colab-df-convert\" onclick=\"convertToInteractive('df-c7404d07-207d-44a8-a95f-63dee89273d4')\"\n",
              "              title=\"Convert this dataframe to an interactive table.\"\n",
              "              style=\"display:none;\">\n",
              "        \n",
              "  <svg xmlns=\"http://www.w3.org/2000/svg\" height=\"24px\"viewBox=\"0 0 24 24\"\n",
              "       width=\"24px\">\n",
              "    <path d=\"M0 0h24v24H0V0z\" fill=\"none\"/>\n",
              "    <path d=\"M18.56 5.44l.94 2.06.94-2.06 2.06-.94-2.06-.94-.94-2.06-.94 2.06-2.06.94zm-11 1L8.5 8.5l.94-2.06 2.06-.94-2.06-.94L8.5 2.5l-.94 2.06-2.06.94zm10 10l.94 2.06.94-2.06 2.06-.94-2.06-.94-.94-2.06-.94 2.06-2.06.94z\"/><path d=\"M17.41 7.96l-1.37-1.37c-.4-.4-.92-.59-1.43-.59-.52 0-1.04.2-1.43.59L10.3 9.45l-7.72 7.72c-.78.78-.78 2.05 0 2.83L4 21.41c.39.39.9.59 1.41.59.51 0 1.02-.2 1.41-.59l7.78-7.78 2.81-2.81c.8-.78.8-2.07 0-2.86zM5.41 20L4 18.59l7.72-7.72 1.47 1.35L5.41 20z\"/>\n",
              "  </svg>\n",
              "      </button>\n",
              "      \n",
              "  <style>\n",
              "    .colab-df-container {\n",
              "      display:flex;\n",
              "      flex-wrap:wrap;\n",
              "      gap: 12px;\n",
              "    }\n",
              "\n",
              "    .colab-df-convert {\n",
              "      background-color: #E8F0FE;\n",
              "      border: none;\n",
              "      border-radius: 50%;\n",
              "      cursor: pointer;\n",
              "      display: none;\n",
              "      fill: #1967D2;\n",
              "      height: 32px;\n",
              "      padding: 0 0 0 0;\n",
              "      width: 32px;\n",
              "    }\n",
              "\n",
              "    .colab-df-convert:hover {\n",
              "      background-color: #E2EBFA;\n",
              "      box-shadow: 0px 1px 2px rgba(60, 64, 67, 0.3), 0px 1px 3px 1px rgba(60, 64, 67, 0.15);\n",
              "      fill: #174EA6;\n",
              "    }\n",
              "\n",
              "    [theme=dark] .colab-df-convert {\n",
              "      background-color: #3B4455;\n",
              "      fill: #D2E3FC;\n",
              "    }\n",
              "\n",
              "    [theme=dark] .colab-df-convert:hover {\n",
              "      background-color: #434B5C;\n",
              "      box-shadow: 0px 1px 3px 1px rgba(0, 0, 0, 0.15);\n",
              "      filter: drop-shadow(0px 1px 2px rgba(0, 0, 0, 0.3));\n",
              "      fill: #FFFFFF;\n",
              "    }\n",
              "  </style>\n",
              "\n",
              "      <script>\n",
              "        const buttonEl =\n",
              "          document.querySelector('#df-c7404d07-207d-44a8-a95f-63dee89273d4 button.colab-df-convert');\n",
              "        buttonEl.style.display =\n",
              "          google.colab.kernel.accessAllowed ? 'block' : 'none';\n",
              "\n",
              "        async function convertToInteractive(key) {\n",
              "          const element = document.querySelector('#df-c7404d07-207d-44a8-a95f-63dee89273d4');\n",
              "          const dataTable =\n",
              "            await google.colab.kernel.invokeFunction('convertToInteractive',\n",
              "                                                     [key], {});\n",
              "          if (!dataTable) return;\n",
              "\n",
              "          const docLinkHtml = 'Like what you see? Visit the ' +\n",
              "            '<a target=\"_blank\" href=https://colab.research.google.com/notebooks/data_table.ipynb>data table notebook</a>'\n",
              "            + ' to learn more about interactive tables.';\n",
              "          element.innerHTML = '';\n",
              "          dataTable['output_type'] = 'display_data';\n",
              "          await google.colab.output.renderOutput(dataTable, element);\n",
              "          const docLink = document.createElement('div');\n",
              "          docLink.innerHTML = docLinkHtml;\n",
              "          element.appendChild(docLink);\n",
              "        }\n",
              "      </script>\n",
              "    </div>\n",
              "  </div>\n",
              "  "
            ]
          },
          "metadata": {},
          "execution_count": 90
        }
      ]
    },
    {
      "cell_type": "code",
      "source": [
        "#Pie chart - Goals with and without Assists\n",
        "\n",
        "plt.figure(figsize=(14,7))\n",
        "assists = df['Assists'].sum()\n",
        "data = [Total_Goals - assists, assists]\n",
        "labels = ['Goals without assits','Goals with assists']\n",
        "color = sns.color_palette('Set1')\n",
        "plt.pie(data, labels = labels, colors = color , autopct = '%.0f%%')\n",
        "plt.show()"
      ],
      "metadata": {
        "colab": {
          "base_uri": "https://localhost:8080/",
          "height": 411
        },
        "id": "sVV3IWk3wu49",
        "outputId": "6355abdb-8970-40ba-fe3f-dc790ee84bad"
      },
      "execution_count": null,
      "outputs": [
        {
          "output_type": "display_data",
          "data": {
            "text/plain": [
              "<Figure size 1008x504 with 1 Axes>"
            ],
            "image/png": "[encoded data removed]"
          },
          "metadata": {}
        }
      ]
    },
    {
      "cell_type": "code",
      "source": [
        "# Top 10 players with most yellow cards\n",
        "\n",
        "yellow = df.sort_values(by='Yellow_Cards', ascending=False)[:10]\n",
        "plt.figure(figsize=(20,6))\n",
        "plt.title('Players with the most yellow cards',fontsize=20)\n",
        "c = sns.barplot(x=yellow['Name'], y=yellow['Yellow_Cards'], label='Players',color='yellow')\n",
        "plt.ylabel('Number of yellow cards')\n",
        "c.set_xticklabels(c.get_xticklabels(),rotation=45)\n",
        "c"
      ],
      "metadata": {
        "colab": {
          "base_uri": "https://localhost:8080/",
          "height": 355
        },
        "id": "gdWbHwQ3xwyB",
        "outputId": "e732029c-bae2-47e1-8159-c949d497bfc6"
      },
      "execution_count": null,
      "outputs": [
        {
          "output_type": "execute_result",
          "data": {
            "text/plain": [
              "<matplotlib.axes._subplots.AxesSubplot at 0x7fdd4e09f510>"
            ]
          },
          "metadata": {},
          "execution_count": 100
        },
        {
          "output_type": "display_data",
          "data": {
            "text/plain": [
              "<Figure size 1440x432 with 1 Axes>"
            ],
            "image/png": "[encoded data removed]"
          },
          "metadata": {
            "needs_background": "light"
          }
        }
      ]
    }
  ]
}